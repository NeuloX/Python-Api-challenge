{
 "cells": [
  {
   "cell_type": "markdown",
   "metadata": {},
   "source": [
    "# WeatherPy\n",
    "----\n",
    "\n",
    "#### Note\n",
    "* Instructions have been included for each segment. You do not have to follow them exactly, but they are included to help you think through the steps."
   ]
  },
  {
   "cell_type": "code",
   "execution_count": 42,
   "metadata": {
    "scrolled": true
   },
   "outputs": [],
   "source": [
    "# imports \n",
    "import requests\n",
    "import json\n",
    "import matplotlib.pyplot as plt\n",
    "import pandas as pd\n",
    "import scipy.stats as st\n",
    "import random\n",
    "import numpy as np\n",
    "#get citipy\n",
    "from citipy import citipy\n",
    "from api_keys import weather_key\n",
    "from datetime import datetime\n",
    "from scipy.stats import linregress"
   ]
  },
  {
   "cell_type": "markdown",
   "metadata": {},
   "source": [
    "## Generate Cities List"
   ]
  },
  {
   "cell_type": "code",
   "execution_count": 2,
   "metadata": {},
   "outputs": [
    {
     "data": {
      "text/plain": [
       "550"
      ]
     },
     "execution_count": 2,
     "metadata": {},
     "output_type": "execute_result"
    }
   ],
   "source": [
    "#set data frame with 550 random long and Lat\n",
    "city_df = pd.DataFrame({\n",
    "    \"Longitude\":(np.random.uniform(-1.8,1.8,550)*100), \n",
    "    \"Latitude\":(np.random.uniform(-0.9,0.9,550)*100)\n",
    "})\n",
    "city_df\n",
    "citycount = len(city_df)\n",
    "citycount"
   ]
  },
  {
   "cell_type": "code",
   "execution_count": 3,
   "metadata": {},
   "outputs": [
    {
     "data": {
      "text/html": [
       "<div>\n",
       "<style scoped>\n",
       "    .dataframe tbody tr th:only-of-type {\n",
       "        vertical-align: middle;\n",
       "    }\n",
       "\n",
       "    .dataframe tbody tr th {\n",
       "        vertical-align: top;\n",
       "    }\n",
       "\n",
       "    .dataframe thead th {\n",
       "        text-align: right;\n",
       "    }\n",
       "</style>\n",
       "<table border=\"1\" class=\"dataframe\">\n",
       "  <thead>\n",
       "    <tr style=\"text-align: right;\">\n",
       "      <th></th>\n",
       "      <th>Longitude</th>\n",
       "      <th>Latitude</th>\n",
       "      <th>City</th>\n",
       "      <th>Country</th>\n",
       "    </tr>\n",
       "  </thead>\n",
       "  <tbody>\n",
       "    <tr>\n",
       "      <th>0</th>\n",
       "      <td>-143.055649</td>\n",
       "      <td>-85.251585</td>\n",
       "      <td>mataura</td>\n",
       "      <td>pf</td>\n",
       "    </tr>\n",
       "    <tr>\n",
       "      <th>1</th>\n",
       "      <td>120.751855</td>\n",
       "      <td>-21.630768</td>\n",
       "      <td>port hedland</td>\n",
       "      <td>au</td>\n",
       "    </tr>\n",
       "    <tr>\n",
       "      <th>2</th>\n",
       "      <td>-128.853680</td>\n",
       "      <td>56.993924</td>\n",
       "      <td>terrace</td>\n",
       "      <td>ca</td>\n",
       "    </tr>\n",
       "    <tr>\n",
       "      <th>3</th>\n",
       "      <td>-72.059712</td>\n",
       "      <td>43.527686</td>\n",
       "      <td>new london</td>\n",
       "      <td>us</td>\n",
       "    </tr>\n",
       "    <tr>\n",
       "      <th>4</th>\n",
       "      <td>64.597603</td>\n",
       "      <td>12.265358</td>\n",
       "      <td>kavaratti</td>\n",
       "      <td>in</td>\n",
       "    </tr>\n",
       "    <tr>\n",
       "      <th>...</th>\n",
       "      <td>...</td>\n",
       "      <td>...</td>\n",
       "      <td>...</td>\n",
       "      <td>...</td>\n",
       "    </tr>\n",
       "    <tr>\n",
       "      <th>545</th>\n",
       "      <td>-144.681435</td>\n",
       "      <td>38.083847</td>\n",
       "      <td>fortuna</td>\n",
       "      <td>us</td>\n",
       "    </tr>\n",
       "    <tr>\n",
       "      <th>546</th>\n",
       "      <td>92.443675</td>\n",
       "      <td>64.338618</td>\n",
       "      <td>teya</td>\n",
       "      <td>ru</td>\n",
       "    </tr>\n",
       "    <tr>\n",
       "      <th>547</th>\n",
       "      <td>-161.648569</td>\n",
       "      <td>-34.759470</td>\n",
       "      <td>avarua</td>\n",
       "      <td>ck</td>\n",
       "    </tr>\n",
       "    <tr>\n",
       "      <th>548</th>\n",
       "      <td>-148.804494</td>\n",
       "      <td>51.957924</td>\n",
       "      <td>kodiak</td>\n",
       "      <td>us</td>\n",
       "    </tr>\n",
       "    <tr>\n",
       "      <th>549</th>\n",
       "      <td>-106.527589</td>\n",
       "      <td>84.149564</td>\n",
       "      <td>yellowknife</td>\n",
       "      <td>ca</td>\n",
       "    </tr>\n",
       "  </tbody>\n",
       "</table>\n",
       "<p>550 rows × 4 columns</p>\n",
       "</div>"
      ],
      "text/plain": [
       "      Longitude   Latitude          City Country\n",
       "0   -143.055649 -85.251585       mataura      pf\n",
       "1    120.751855 -21.630768  port hedland      au\n",
       "2   -128.853680  56.993924       terrace      ca\n",
       "3    -72.059712  43.527686    new london      us\n",
       "4     64.597603  12.265358     kavaratti      in\n",
       "..          ...        ...           ...     ...\n",
       "545 -144.681435  38.083847       fortuna      us\n",
       "546   92.443675  64.338618          teya      ru\n",
       "547 -161.648569 -34.759470        avarua      ck\n",
       "548 -148.804494  51.957924        kodiak      us\n",
       "549 -106.527589  84.149564   yellowknife      ca\n",
       "\n",
       "[550 rows x 4 columns]"
      ]
     },
     "execution_count": 3,
     "metadata": {},
     "output_type": "execute_result"
    }
   ],
   "source": [
    "city_name = []\n",
    "country = []\n",
    "#extract the cities base on Long and Lat\n",
    "for count in range(citycount):\n",
    "    long = city_df.iloc[count][\"Longitude\"]\n",
    "    lati = city_df.iloc[count][\"Latitude\"]\n",
    "    city=citipy.nearest_city(lati,long)\n",
    "    get_cityname = city.city_name\n",
    "    get_county = city.country_code\n",
    "    \n",
    "    city_name.append(get_cityname)\n",
    "    country.append(get_county)\n",
    "city_df['City']=city_name\n",
    "city_df['Country']=country\n",
    "\n",
    "city_df"
   ]
  },
  {
   "cell_type": "markdown",
   "metadata": {},
   "source": [
    "### Perform API Calls\n",
    "* Perform a weather check on each city using a series of successive API calls.\n",
    "* Include a print log of each city as it'sbeing processed (with the city number and city name).\n"
   ]
  },
  {
   "cell_type": "code",
   "execution_count": 6,
   "metadata": {},
   "outputs": [
    {
     "data": {
      "text/plain": [
       "{'coord': {'lon': 15.64, 'lat': 78.22},\n",
       " 'weather': [{'id': 803,\n",
       "   'main': 'Clouds',\n",
       "   'description': 'broken clouds',\n",
       "   'icon': '04n'}],\n",
       " 'base': 'stations',\n",
       " 'main': {'temp': 35.6,\n",
       "  'feels_like': 25.95,\n",
       "  'temp_min': 35.6,\n",
       "  'temp_max': 35.6,\n",
       "  'pressure': 1031,\n",
       "  'humidity': 80},\n",
       " 'visibility': 10000,\n",
       " 'wind': {'speed': 10.29, 'deg': 210},\n",
       " 'clouds': {'all': 75},\n",
       " 'dt': 1601654487,\n",
       " 'sys': {'type': 1,\n",
       "  'id': 1663,\n",
       "  'country': 'SJ',\n",
       "  'sunrise': 1601617353,\n",
       "  'sunset': 1601653838},\n",
       " 'timezone': 7200,\n",
       " 'id': 2729907,\n",
       " 'name': 'Longyearbyen',\n",
       " 'cod': 200}"
      ]
     },
     "execution_count": 6,
     "metadata": {},
     "output_type": "execute_result"
    }
   ],
   "source": [
    "#Test Connection\n",
    "city = \"longyearbyen\"\n",
    "weather_api = f\"https://api.openweathermap.org/data/2.5/weather?q={city}&appid={weather_key}&units=imperial\"\n",
    "response = requests.get(weather_api).json()\n",
    "response"
   ]
  },
  {
   "cell_type": "code",
   "execution_count": 4,
   "metadata": {
    "scrolled": false
   },
   "outputs": [
    {
     "name": "stdout",
     "output_type": "stream",
     "text": [
      "Sucess! The city mataura found!\n",
      "Sucess! The city port hedland found!\n",
      "Sucess! The city terrace found!\n",
      "Sucess! The city new london found!\n",
      "Sucess! The city kavaratti found!\n",
      "Sucess! The city barrow found!\n",
      "Sucess! The city longyearbyen found!\n",
      "Sucess! The city juneau found!\n",
      "Failed! The city falealupo NOT found!\n",
      "Sucess! The city salinopolis found!\n",
      "Sucess! The city beira found!\n",
      "Sucess! The city kurilsk found!\n",
      "Sucess! The city provideniya found!\n",
      "Sucess! The city nikolskoye found!\n",
      "Sucess! The city elmina found!\n",
      "Sucess! The city dandong found!\n",
      "Sucess! The city cabo san lucas found!\n",
      "Sucess! The city ribeira grande found!\n",
      "Sucess! The city hobart found!\n",
      "Sucess! The city bintulu found!\n",
      "Sucess! The city new norfolk found!\n",
      "Sucess! The city huilong found!\n",
      "Sucess! The city saint george found!\n",
      "Sucess! The city port alfred found!\n",
      "Sucess! The city cherskiy found!\n",
      "Sucess! The city phulji found!\n",
      "Sucess! The city tsaratanana found!\n",
      "Sucess! The city boyuibe found!\n",
      "Sucess! The city ushuaia found!\n",
      "Sucess! The city itoman found!\n",
      "Sucess! The city cape town found!\n",
      "Sucess! The city bluff found!\n",
      "Sucess! The city flinders found!\n",
      "Sucess! The city phibun mangsahan found!\n",
      "Failed! The city amderma NOT found!\n",
      "Sucess! The city port elizabeth found!\n",
      "Failed! The city gazni NOT found!\n",
      "Sucess! The city chokurdakh found!\n",
      "Sucess! The city vaini found!\n",
      "Failed! The city mys shmidta NOT found!\n",
      "Sucess! The city rikitea found!\n",
      "Sucess! The city saint george found!\n",
      "Sucess! The city hasaki found!\n",
      "Sucess! The city carnarvon found!\n",
      "Sucess! The city castro found!\n",
      "Sucess! The city punta arenas found!\n",
      "Sucess! The city itacoatiara found!\n",
      "Sucess! The city ostrovnoy found!\n",
      "Sucess! The city buraydah found!\n",
      "Sucess! The city carballo found!\n",
      "Sucess! The city capoterra found!\n",
      "Sucess! The city mataura found!\n",
      "Sucess! The city cayenne found!\n",
      "Sucess! The city tuatapere found!\n",
      "Sucess! The city albany found!\n",
      "Sucess! The city nyurba found!\n",
      "Sucess! The city san quintin found!\n",
      "Failed! The city illoqqortoormiut NOT found!\n",
      "Sucess! The city tura found!\n",
      "Sucess! The city kapaa found!\n",
      "Sucess! The city ushuaia found!\n",
      "Sucess! The city brownsville found!\n",
      "Sucess! The city kirovsk found!\n",
      "Sucess! The city norman wells found!\n",
      "Sucess! The city rikitea found!\n",
      "Sucess! The city paita found!\n",
      "Sucess! The city jamestown found!\n",
      "Sucess! The city wasilla found!\n",
      "Sucess! The city bubaque found!\n",
      "Sucess! The city verkhovazhye found!\n",
      "Sucess! The city east london found!\n",
      "Sucess! The city kamir found!\n",
      "Sucess! The city nome found!\n",
      "Sucess! The city kichera found!\n",
      "Sucess! The city jamestown found!\n",
      "Sucess! The city mount gambier found!\n",
      "Sucess! The city rosignol found!\n",
      "Failed! The city tabiauea NOT found!\n",
      "Sucess! The city lekoni found!\n",
      "Sucess! The city isangel found!\n",
      "Sucess! The city san patricio found!\n",
      "Sucess! The city dikson found!\n",
      "Sucess! The city airai found!\n",
      "Sucess! The city esperance found!\n",
      "Sucess! The city mugumu found!\n",
      "Sucess! The city bangui found!\n",
      "Sucess! The city hastings found!\n",
      "Sucess! The city saint-francois found!\n",
      "Sucess! The city tripoli found!\n",
      "Sucess! The city olafsvik found!\n",
      "Sucess! The city umm lajj found!\n",
      "Sucess! The city bay city found!\n",
      "Sucess! The city port hardy found!\n",
      "Failed! The city makung NOT found!\n",
      "Sucess! The city lagoa found!\n",
      "Sucess! The city half moon bay found!\n",
      "Sucess! The city carnarvon found!\n",
      "Sucess! The city ribeira grande found!\n",
      "Sucess! The city barrow found!\n",
      "Sucess! The city bethel found!\n",
      "Sucess! The city santa marta de tormes found!\n",
      "Sucess! The city codrington found!\n",
      "Sucess! The city esperance found!\n",
      "Failed! The city taolanaro NOT found!\n",
      "Sucess! The city saint george found!\n",
      "Sucess! The city hearst found!\n",
      "Sucess! The city kamenka found!\n",
      "Sucess! The city sisimiut found!\n",
      "Sucess! The city ushuaia found!\n",
      "Sucess! The city san patricio found!\n",
      "Sucess! The city batagay-alyta found!\n",
      "Sucess! The city port elizabeth found!\n",
      "Sucess! The city wabag found!\n",
      "Sucess! The city hasaki found!\n",
      "Sucess! The city pishin found!\n",
      "Sucess! The city butaritari found!\n",
      "Sucess! The city georgetown found!\n",
      "Failed! The city mahadday weyne NOT found!\n",
      "Sucess! The city krasnyy yar found!\n",
      "Sucess! The city rikitea found!\n",
      "Sucess! The city arlit found!\n",
      "Sucess! The city isangel found!\n",
      "Sucess! The city hambantota found!\n",
      "Sucess! The city townsville found!\n",
      "Sucess! The city mar del plata found!\n",
      "Sucess! The city hermanus found!\n",
      "Sucess! The city albany found!\n",
      "Sucess! The city ribeira grande found!\n",
      "Failed! The city promysla NOT found!\n",
      "Sucess! The city mehamn found!\n",
      "Sucess! The city qaanaaq found!\n",
      "Sucess! The city indi found!\n",
      "Sucess! The city constitucion found!\n",
      "Sucess! The city bouloupari found!\n",
      "Sucess! The city avera found!\n",
      "Sucess! The city tuktoyaktuk found!\n",
      "Sucess! The city bom jardim found!\n",
      "Sucess! The city mataura found!\n",
      "Sucess! The city port-gentil found!\n",
      "Sucess! The city ilulissat found!\n",
      "Sucess! The city bambous virieux found!\n",
      "Failed! The city samusu NOT found!\n",
      "Sucess! The city port elizabeth found!\n",
      "Sucess! The city jamestown found!\n",
      "Failed! The city saleaula NOT found!\n",
      "Sucess! The city pisco found!\n",
      "Sucess! The city senanga found!\n",
      "Sucess! The city albany found!\n",
      "Sucess! The city bengkulu found!\n",
      "Failed! The city sentyabrskiy NOT found!\n",
      "Sucess! The city norman wells found!\n",
      "Sucess! The city busselton found!\n",
      "Sucess! The city butaritari found!\n",
      "Sucess! The city provost found!\n",
      "Sucess! The city lebu found!\n",
      "Sucess! The city ushuaia found!\n",
      "Sucess! The city jamestown found!\n",
      "Sucess! The city wiarton found!\n",
      "Sucess! The city bethel found!\n",
      "Failed! The city attawapiskat NOT found!\n",
      "Sucess! The city matamoros found!\n",
      "Sucess! The city mataura found!\n",
      "Sucess! The city tabou found!\n",
      "Sucess! The city porto novo found!\n",
      "Failed! The city barentsburg NOT found!\n",
      "Sucess! The city tromso found!\n",
      "Sucess! The city hilo found!\n",
      "Sucess! The city hithadhoo found!\n",
      "Sucess! The city punta arenas found!\n",
      "Sucess! The city una found!\n",
      "Failed! The city xiongshi NOT found!\n",
      "Sucess! The city montefiascone found!\n",
      "Failed! The city palabuhanratu NOT found!\n",
      "Sucess! The city rikitea found!\n",
      "Failed! The city attawapiskat NOT found!\n",
      "Sucess! The city avarua found!\n",
      "Sucess! The city bluff found!\n",
      "Failed! The city lolua NOT found!\n",
      "Sucess! The city kavieng found!\n",
      "Sucess! The city codrington found!\n",
      "Sucess! The city port alfred found!\n",
      "Sucess! The city albany found!\n",
      "Sucess! The city cape town found!\n",
      "Sucess! The city faanui found!\n",
      "Sucess! The city rikitea found!\n",
      "Sucess! The city talnakh found!\n",
      "Sucess! The city barrow found!\n",
      "Sucess! The city katherine found!\n",
      "Sucess! The city aripuana found!\n",
      "Sucess! The city tiksi found!\n",
      "Sucess! The city mar del plata found!\n",
      "Sucess! The city kattivakkam found!\n",
      "Sucess! The city souillac found!\n",
      "Sucess! The city airai found!\n",
      "Sucess! The city hermanus found!\n",
      "Sucess! The city dunedin found!\n",
      "Sucess! The city coquimbo found!\n",
      "Sucess! The city atuona found!\n",
      "Failed! The city illoqqortoormiut NOT found!\n",
      "Sucess! The city bathsheba found!\n",
      "Sucess! The city punta arenas found!\n",
      "Sucess! The city tevaitoa found!\n",
      "Sucess! The city cabo san lucas found!\n",
      "Sucess! The city punta arenas found!\n",
      "Sucess! The city port alfred found!\n",
      "Sucess! The city san patricio found!\n",
      "Sucess! The city punta arenas found!\n",
      "Sucess! The city esperance found!\n",
      "Sucess! The city barrow found!\n",
      "Sucess! The city xining found!\n",
      "Sucess! The city vostok found!\n",
      "Sucess! The city avarua found!\n",
      "Sucess! The city longyearbyen found!\n",
      "Sucess! The city san cristobal found!\n",
      "Sucess! The city acaponeta found!\n",
      "Sucess! The city mahebourg found!\n",
      "Sucess! The city busselton found!\n",
      "Sucess! The city hithadhoo found!\n",
      "Sucess! The city ushuaia found!\n",
      "Sucess! The city lagoa found!\n",
      "Sucess! The city kabarnet found!\n",
      "Sucess! The city saskylakh found!\n",
      "Sucess! The city mataura found!\n",
      "Sucess! The city kindu found!\n",
      "Sucess! The city camacha found!\n",
      "Sucess! The city punta arenas found!\n",
      "Sucess! The city ushuaia found!\n",
      "Sucess! The city chuy found!\n",
      "Sucess! The city hami found!\n",
      "Sucess! The city ushuaia found!\n",
      "Sucess! The city pevek found!\n",
      "Failed! The city marcona NOT found!\n",
      "Sucess! The city saint-philippe found!\n",
      "Failed! The city vaitupu NOT found!\n",
      "Sucess! The city mataura found!\n",
      "Sucess! The city mount isa found!\n",
      "Sucess! The city georgetown found!\n",
      "Sucess! The city bredasdorp found!\n",
      "Sucess! The city indianola found!\n",
      "Failed! The city taolanaro NOT found!\n",
      "Failed! The city mys shmidta NOT found!\n"
     ]
    },
    {
     "name": "stdout",
     "output_type": "stream",
     "text": [
      "Sucess! The city laguna found!\n",
      "Failed! The city taolanaro NOT found!\n",
      "Sucess! The city vaini found!\n",
      "Sucess! The city ushuaia found!\n",
      "Sucess! The city manokwari found!\n",
      "Sucess! The city khatanga found!\n",
      "Sucess! The city byron bay found!\n",
      "Sucess! The city bredasdorp found!\n",
      "Sucess! The city mar del plata found!\n",
      "Sucess! The city chokurdakh found!\n",
      "Sucess! The city rikitea found!\n",
      "Sucess! The city hilo found!\n",
      "Sucess! The city atuona found!\n",
      "Sucess! The city berlevag found!\n",
      "Sucess! The city ushuaia found!\n",
      "Sucess! The city hisor found!\n",
      "Failed! The city sentyabrskiy NOT found!\n",
      "Sucess! The city codrington found!\n",
      "Sucess! The city ushuaia found!\n",
      "Sucess! The city basco found!\n",
      "Sucess! The city richards bay found!\n",
      "Sucess! The city bluff found!\n",
      "Sucess! The city lysyye gory found!\n",
      "Sucess! The city ostrovnoy found!\n",
      "Sucess! The city avarua found!\n",
      "Failed! The city sinkat NOT found!\n",
      "Sucess! The city alta floresta found!\n",
      "Sucess! The city mataura found!\n",
      "Failed! The city phrai bung NOT found!\n",
      "Sucess! The city hermanus found!\n",
      "Sucess! The city masuguru found!\n",
      "Sucess! The city puerto ayora found!\n",
      "Sucess! The city tuktoyaktuk found!\n",
      "Sucess! The city ushuaia found!\n",
      "Sucess! The city thompson found!\n",
      "Sucess! The city hermanus found!\n",
      "Sucess! The city rikitea found!\n",
      "Sucess! The city paragominas found!\n",
      "Sucess! The city ushuaia found!\n",
      "Sucess! The city avarua found!\n",
      "Sucess! The city punta arenas found!\n",
      "Sucess! The city norman wells found!\n",
      "Sucess! The city tasiilaq found!\n",
      "Failed! The city marcona NOT found!\n",
      "Sucess! The city botou found!\n",
      "Sucess! The city hilo found!\n",
      "Failed! The city taolanaro NOT found!\n",
      "Sucess! The city mataura found!\n",
      "Sucess! The city jamestown found!\n",
      "Sucess! The city airai found!\n",
      "Sucess! The city san patricio found!\n",
      "Sucess! The city thompson found!\n",
      "Sucess! The city atar found!\n",
      "Sucess! The city dikson found!\n",
      "Sucess! The city busselton found!\n",
      "Sucess! The city henties bay found!\n",
      "Sucess! The city lompoc found!\n",
      "Sucess! The city east london found!\n",
      "Sucess! The city upernavik found!\n",
      "Sucess! The city lishui found!\n",
      "Sucess! The city comodoro rivadavia found!\n",
      "Sucess! The city busselton found!\n",
      "Sucess! The city umm lajj found!\n",
      "Sucess! The city cidreira found!\n",
      "Sucess! The city ushuaia found!\n",
      "Failed! The city mys shmidta NOT found!\n",
      "Sucess! The city vostok found!\n",
      "Sucess! The city bethel found!\n",
      "Sucess! The city jamestown found!\n",
      "Failed! The city ozgon NOT found!\n",
      "Sucess! The city punta arenas found!\n",
      "Sucess! The city butaritari found!\n",
      "Failed! The city uwayl NOT found!\n",
      "Sucess! The city albany found!\n",
      "Sucess! The city hilo found!\n",
      "Sucess! The city bluff found!\n",
      "Sucess! The city kapaa found!\n",
      "Sucess! The city mataura found!\n",
      "Sucess! The city sitka found!\n",
      "Sucess! The city yaypan found!\n",
      "Sucess! The city hermanus found!\n",
      "Sucess! The city thompson found!\n",
      "Sucess! The city mahebourg found!\n",
      "Sucess! The city cape town found!\n",
      "Sucess! The city san patricio found!\n",
      "Sucess! The city nikolskoye found!\n",
      "Sucess! The city ancud found!\n",
      "Sucess! The city georgetown found!\n",
      "Sucess! The city ambon found!\n",
      "Sucess! The city tiksi found!\n",
      "Sucess! The city barrow found!\n",
      "Sucess! The city georgetown found!\n",
      "Sucess! The city souillac found!\n",
      "Sucess! The city atar found!\n",
      "Sucess! The city busselton found!\n",
      "Sucess! The city rikitea found!\n",
      "Sucess! The city ponta do sol found!\n",
      "Sucess! The city kapaa found!\n",
      "Sucess! The city ushuaia found!\n",
      "Sucess! The city uglegorskiy found!\n",
      "Sucess! The city vaini found!\n",
      "Sucess! The city hobart found!\n",
      "Sucess! The city rikitea found!\n",
      "Sucess! The city jiayuguan found!\n",
      "Sucess! The city puerto ayora found!\n",
      "Failed! The city we NOT found!\n",
      "Sucess! The city mataura found!\n",
      "Sucess! The city cape town found!\n",
      "Sucess! The city kandrian found!\n",
      "Sucess! The city sawtell found!\n",
      "Sucess! The city mataura found!\n",
      "Sucess! The city port alfred found!\n",
      "Sucess! The city airai found!\n",
      "Sucess! The city arraial do cabo found!\n",
      "Sucess! The city mataura found!\n",
      "Sucess! The city busselton found!\n",
      "Sucess! The city nikolskoye found!\n",
      "Sucess! The city barrow found!\n",
      "Sucess! The city upernavik found!\n",
      "Sucess! The city rikitea found!\n",
      "Sucess! The city barrow found!\n",
      "Sucess! The city makurdi found!\n",
      "Sucess! The city hofn found!\n",
      "Sucess! The city glazov found!\n",
      "Sucess! The city klaksvik found!\n",
      "Failed! The city barentsburg NOT found!\n",
      "Failed! The city naftah NOT found!\n",
      "Sucess! The city mataura found!\n",
      "Sucess! The city qaanaaq found!\n",
      "Sucess! The city alice springs found!\n",
      "Sucess! The city quatre cocos found!\n",
      "Sucess! The city lasa found!\n",
      "Sucess! The city namtsy found!\n",
      "Sucess! The city bantry found!\n",
      "Sucess! The city kabanjahe found!\n",
      "Sucess! The city khed brahma found!\n",
      "Sucess! The city broken hill found!\n",
      "Sucess! The city mataura found!\n",
      "Sucess! The city isangel found!\n",
      "Sucess! The city valparaiso found!\n",
      "Failed! The city pokrovsk-uralskiy NOT found!\n",
      "Sucess! The city kizhinga found!\n",
      "Sucess! The city atuona found!\n",
      "Sucess! The city ushuaia found!\n",
      "Sucess! The city lagoa found!\n",
      "Sucess! The city te anau found!\n",
      "Sucess! The city bambous virieux found!\n",
      "Sucess! The city punta arenas found!\n",
      "Sucess! The city waycross found!\n",
      "Failed! The city saleaula NOT found!\n",
      "Sucess! The city odessa found!\n",
      "Sucess! The city albany found!\n",
      "Sucess! The city prachuap khiri khan found!\n",
      "Sucess! The city sitka found!\n",
      "Sucess! The city portobelo found!\n",
      "Sucess! The city torbay found!\n",
      "Sucess! The city busselton found!\n",
      "Sucess! The city vaini found!\n",
      "Sucess! The city paamiut found!\n",
      "Sucess! The city urumqi found!\n",
      "Sucess! The city hilo found!\n",
      "Sucess! The city hobart found!\n",
      "Sucess! The city thompson found!\n",
      "Sucess! The city ribeira grande found!\n",
      "Sucess! The city hilo found!\n",
      "Sucess! The city rikitea found!\n",
      "Sucess! The city san patricio found!\n",
      "Sucess! The city ushuaia found!\n",
      "Sucess! The city kavieng found!\n",
      "Sucess! The city surskoye found!\n",
      "Sucess! The city punta arenas found!\n",
      "Sucess! The city ushuaia found!\n",
      "Sucess! The city santa rosa found!\n",
      "Sucess! The city clyde river found!\n",
      "Sucess! The city hargeysa found!\n",
      "Sucess! The city iquique found!\n",
      "Failed! The city samusu NOT found!\n",
      "Sucess! The city ribeira grande found!\n",
      "Sucess! The city meulaboh found!\n",
      "Sucess! The city kipushi found!\n",
      "Sucess! The city vaini found!\n",
      "Sucess! The city bridlington found!\n",
      "Sucess! The city george found!\n",
      "Sucess! The city nalut found!\n",
      "Sucess! The city geraldton found!\n",
      "Sucess! The city ushuaia found!\n",
      "Sucess! The city celestun found!\n",
      "Sucess! The city butaritari found!\n",
      "Sucess! The city hermanus found!\n",
      "Failed! The city illoqqortoormiut NOT found!\n",
      "Sucess! The city hermanus found!\n",
      "Sucess! The city dembi dolo found!\n",
      "Sucess! The city ibia found!\n",
      "Sucess! The city dunedin found!\n",
      "Sucess! The city makakilo city found!\n",
      "Sucess! The city tuntum found!\n",
      "Sucess! The city trinidad found!\n",
      "Sucess! The city arraial do cabo found!\n",
      "Sucess! The city bredasdorp found!\n",
      "Failed! The city mys shmidta NOT found!\n",
      "Failed! The city taolanaro NOT found!\n",
      "Sucess! The city mataura found!\n",
      "Sucess! The city akureyri found!\n",
      "Sucess! The city new norfolk found!\n",
      "Sucess! The city ushuaia found!\n",
      "Failed! The city bandar penggaram NOT found!\n",
      "Sucess! The city ponta delgada found!\n",
      "Failed! The city samusu NOT found!\n",
      "Failed! The city taolanaro NOT found!\n",
      "Sucess! The city bilibino found!\n",
      "Sucess! The city asau found!\n",
      "Sucess! The city barrow found!\n",
      "Sucess! The city yellowknife found!\n",
      "Sucess! The city tiksi found!\n",
      "Sucess! The city busselton found!\n",
      "Sucess! The city rikitea found!\n",
      "Failed! The city mys shmidta NOT found!\n",
      "Sucess! The city severo-kurilsk found!\n",
      "Sucess! The city punta arenas found!\n",
      "Failed! The city karkaralinsk NOT found!\n",
      "Sucess! The city chupa found!\n",
      "Sucess! The city kahului found!\n",
      "Sucess! The city kaseda found!\n",
      "Sucess! The city mont-dore found!\n",
      "Sucess! The city los llanos de aridane found!\n",
      "Sucess! The city amga found!\n",
      "Sucess! The city lahan found!\n",
      "Sucess! The city rikitea found!\n",
      "Sucess! The city trinidad found!\n",
      "Sucess! The city kiama found!\n",
      "Sucess! The city cape town found!\n",
      "Sucess! The city castro found!\n",
      "Sucess! The city vaini found!\n",
      "Sucess! The city mataura found!\n",
      "Failed! The city nizhneyansk NOT found!\n",
      "Sucess! The city puerto ayora found!\n",
      "Failed! The city sentyabrskiy NOT found!\n",
      "Sucess! The city albany found!\n",
      "Sucess! The city beringovskiy found!\n",
      "Sucess! The city savannah bight found!\n",
      "Sucess! The city kuah found!\n",
      "Sucess! The city cidreira found!\n",
      "Sucess! The city avarua found!\n",
      "Sucess! The city wattegama found!\n"
     ]
    },
    {
     "name": "stdout",
     "output_type": "stream",
     "text": [
      "Sucess! The city ushuaia found!\n",
      "Sucess! The city busselton found!\n",
      "Sucess! The city faanui found!\n",
      "Sucess! The city esperance found!\n",
      "Sucess! The city bilibino found!\n",
      "Sucess! The city rincon found!\n",
      "Sucess! The city zatyshshya found!\n",
      "Sucess! The city new norfolk found!\n",
      "Sucess! The city altamira found!\n",
      "Sucess! The city butaritari found!\n",
      "Sucess! The city lompoc found!\n",
      "Failed! The city longlac NOT found!\n",
      "Failed! The city taolanaro NOT found!\n",
      "Sucess! The city marawi found!\n",
      "Sucess! The city saint-philippe found!\n",
      "Sucess! The city nizhniy tsasuchey found!\n",
      "Sucess! The city dong hoi found!\n",
      "Sucess! The city lavrentiya found!\n",
      "Sucess! The city padang found!\n",
      "Sucess! The city cape town found!\n",
      "Sucess! The city old saybrook found!\n",
      "Sucess! The city bac lieu found!\n",
      "Sucess! The city black river found!\n",
      "Sucess! The city port alfred found!\n",
      "Sucess! The city dikson found!\n",
      "Sucess! The city busselton found!\n",
      "Sucess! The city shenjiamen found!\n",
      "Sucess! The city khuzdar found!\n",
      "Sucess! The city banda aceh found!\n",
      "Sucess! The city vaini found!\n",
      "Sucess! The city shache found!\n",
      "Sucess! The city punta arenas found!\n",
      "Failed! The city belushya guba NOT found!\n",
      "Sucess! The city atuona found!\n",
      "Sucess! The city punta arenas found!\n",
      "Sucess! The city georgetown found!\n",
      "Sucess! The city aykhal found!\n",
      "Failed! The city sentyabrskiy NOT found!\n",
      "Sucess! The city new norfolk found!\n",
      "Sucess! The city ushuaia found!\n",
      "Sucess! The city avarua found!\n",
      "Sucess! The city saint-philippe found!\n",
      "Sucess! The city jiamusi found!\n",
      "Sucess! The city punta arenas found!\n",
      "Sucess! The city beringovskiy found!\n",
      "Sucess! The city clyde river found!\n",
      "Sucess! The city show low found!\n",
      "Sucess! The city rikitea found!\n",
      "Sucess! The city butaritari found!\n",
      "Sucess! The city punta arenas found!\n",
      "Sucess! The city busselton found!\n",
      "Sucess! The city emba found!\n",
      "Sucess! The city evensk found!\n",
      "Sucess! The city chokurdakh found!\n",
      "Sucess! The city bethel found!\n",
      "Sucess! The city bluff found!\n",
      "Sucess! The city barrow found!\n",
      "Sucess! The city zilair found!\n",
      "Sucess! The city atuona found!\n",
      "Sucess! The city port alfred found!\n",
      "Sucess! The city fortuna found!\n",
      "Sucess! The city teya found!\n",
      "Sucess! The city avarua found!\n",
      "Sucess! The city kodiak found!\n",
      "Sucess! The city yellowknife found!\n"
     ]
    }
   ],
   "source": [
    "temp_list = []\n",
    "humid_list = []\n",
    "cloud_list = []\n",
    "wind_list = []\n",
    "date_list = []\n",
    "for city in city_name:\n",
    "    try:\n",
    "        weather_api = f\"https://api.openweathermap.org/data/2.5/weather?q={city}&appid={weather_key}&units=imperial\"\n",
    "        w_data = requests.get(weather_api).json()\n",
    "        temp = w_data[\"main\"][\"temp\"]\n",
    "        humid = w_data[\"main\"][\"humidity\"]\n",
    "        cloud = w_data[\"clouds\"][\"all\"]\n",
    "        wind = w_data[\"wind\"][\"speed\"]\n",
    "        date = w_data[\"dt\"]\n",
    "        #add to list\n",
    "        temp_list.append(temp)\n",
    "        humid_list.append(humid)\n",
    "        cloud_list.append(cloud)\n",
    "        wind_list.append(wind)\n",
    "        date_list.append(date)\n",
    "        print (f\"Sucess! The city {city} found!\")\n",
    "    except:\n",
    "        print (f\"Failed! The city {city} NOT found!\")\n",
    "        temp_list.append(np.nan)\n",
    "        humid_list.append(np.nan)\n",
    "        cloud_list.append(np.nan)\n",
    "        wind_list.append(np.nan)\n",
    "        date_list.append(np.nan)\n",
    "        \n",
    "city_df[\"Temperature\"] = temp_list\n",
    "city_df[\"Humidity\"] = humid_list\n",
    "city_df[\"Cloud\"] = cloud_list\n",
    "city_df[\"Wind Speed\"] = wind_list\n",
    "city_df[\"Date\"] = date_list"
   ]
  },
  {
   "cell_type": "code",
   "execution_count": null,
   "metadata": {},
   "outputs": [],
   "source": []
  },
  {
   "cell_type": "markdown",
   "metadata": {},
   "source": [
    "### Convert Raw Data to DataFrame\n",
    "* Export the city data into a .csv.\n",
    "* Display the DataFrame"
   ]
  },
  {
   "cell_type": "code",
   "execution_count": 9,
   "metadata": {},
   "outputs": [
    {
     "data": {
      "text/html": [
       "<div>\n",
       "<style scoped>\n",
       "    .dataframe tbody tr th:only-of-type {\n",
       "        vertical-align: middle;\n",
       "    }\n",
       "\n",
       "    .dataframe tbody tr th {\n",
       "        vertical-align: top;\n",
       "    }\n",
       "\n",
       "    .dataframe thead th {\n",
       "        text-align: right;\n",
       "    }\n",
       "</style>\n",
       "<table border=\"1\" class=\"dataframe\">\n",
       "  <thead>\n",
       "    <tr style=\"text-align: right;\">\n",
       "      <th></th>\n",
       "      <th>Longitude</th>\n",
       "      <th>Latitude</th>\n",
       "      <th>City</th>\n",
       "      <th>Country</th>\n",
       "      <th>Temperature</th>\n",
       "      <th>Humidity</th>\n",
       "      <th>Cloud</th>\n",
       "      <th>Wind Speed</th>\n",
       "      <th>Date</th>\n",
       "    </tr>\n",
       "  </thead>\n",
       "  <tbody>\n",
       "    <tr>\n",
       "      <th>0</th>\n",
       "      <td>-143.055649</td>\n",
       "      <td>-85.251585</td>\n",
       "      <td>mataura</td>\n",
       "      <td>pf</td>\n",
       "      <td>47.62</td>\n",
       "      <td>70.0</td>\n",
       "      <td>42.0</td>\n",
       "      <td>7.56</td>\n",
       "      <td>1.601656e+09</td>\n",
       "    </tr>\n",
       "    <tr>\n",
       "      <th>1</th>\n",
       "      <td>120.751855</td>\n",
       "      <td>-21.630768</td>\n",
       "      <td>port hedland</td>\n",
       "      <td>au</td>\n",
       "      <td>77.00</td>\n",
       "      <td>69.0</td>\n",
       "      <td>53.0</td>\n",
       "      <td>14.99</td>\n",
       "      <td>1.601656e+09</td>\n",
       "    </tr>\n",
       "    <tr>\n",
       "      <th>2</th>\n",
       "      <td>-128.853680</td>\n",
       "      <td>56.993924</td>\n",
       "      <td>terrace</td>\n",
       "      <td>ca</td>\n",
       "      <td>57.20</td>\n",
       "      <td>93.0</td>\n",
       "      <td>75.0</td>\n",
       "      <td>2.24</td>\n",
       "      <td>1.601656e+09</td>\n",
       "    </tr>\n",
       "    <tr>\n",
       "      <th>3</th>\n",
       "      <td>-72.059712</td>\n",
       "      <td>43.527686</td>\n",
       "      <td>new london</td>\n",
       "      <td>us</td>\n",
       "      <td>60.06</td>\n",
       "      <td>59.0</td>\n",
       "      <td>90.0</td>\n",
       "      <td>9.17</td>\n",
       "      <td>1.601656e+09</td>\n",
       "    </tr>\n",
       "    <tr>\n",
       "      <th>4</th>\n",
       "      <td>64.597603</td>\n",
       "      <td>12.265358</td>\n",
       "      <td>kavaratti</td>\n",
       "      <td>in</td>\n",
       "      <td>81.32</td>\n",
       "      <td>79.0</td>\n",
       "      <td>69.0</td>\n",
       "      <td>12.62</td>\n",
       "      <td>1.601656e+09</td>\n",
       "    </tr>\n",
       "    <tr>\n",
       "      <th>...</th>\n",
       "      <td>...</td>\n",
       "      <td>...</td>\n",
       "      <td>...</td>\n",
       "      <td>...</td>\n",
       "      <td>...</td>\n",
       "      <td>...</td>\n",
       "      <td>...</td>\n",
       "      <td>...</td>\n",
       "      <td>...</td>\n",
       "    </tr>\n",
       "    <tr>\n",
       "      <th>545</th>\n",
       "      <td>-144.681435</td>\n",
       "      <td>38.083847</td>\n",
       "      <td>fortuna</td>\n",
       "      <td>us</td>\n",
       "      <td>53.60</td>\n",
       "      <td>100.0</td>\n",
       "      <td>1.0</td>\n",
       "      <td>1.70</td>\n",
       "      <td>1.601656e+09</td>\n",
       "    </tr>\n",
       "    <tr>\n",
       "      <th>546</th>\n",
       "      <td>92.443675</td>\n",
       "      <td>64.338618</td>\n",
       "      <td>teya</td>\n",
       "      <td>ru</td>\n",
       "      <td>33.87</td>\n",
       "      <td>91.0</td>\n",
       "      <td>94.0</td>\n",
       "      <td>6.89</td>\n",
       "      <td>1.601656e+09</td>\n",
       "    </tr>\n",
       "    <tr>\n",
       "      <th>547</th>\n",
       "      <td>-161.648569</td>\n",
       "      <td>-34.759470</td>\n",
       "      <td>avarua</td>\n",
       "      <td>ck</td>\n",
       "      <td>73.40</td>\n",
       "      <td>88.0</td>\n",
       "      <td>85.0</td>\n",
       "      <td>5.82</td>\n",
       "      <td>1.601656e+09</td>\n",
       "    </tr>\n",
       "    <tr>\n",
       "      <th>548</th>\n",
       "      <td>-148.804494</td>\n",
       "      <td>51.957924</td>\n",
       "      <td>kodiak</td>\n",
       "      <td>us</td>\n",
       "      <td>51.80</td>\n",
       "      <td>87.0</td>\n",
       "      <td>90.0</td>\n",
       "      <td>26.40</td>\n",
       "      <td>1.601656e+09</td>\n",
       "    </tr>\n",
       "    <tr>\n",
       "      <th>549</th>\n",
       "      <td>-106.527589</td>\n",
       "      <td>84.149564</td>\n",
       "      <td>yellowknife</td>\n",
       "      <td>ca</td>\n",
       "      <td>39.07</td>\n",
       "      <td>86.0</td>\n",
       "      <td>75.0</td>\n",
       "      <td>8.05</td>\n",
       "      <td>1.601656e+09</td>\n",
       "    </tr>\n",
       "  </tbody>\n",
       "</table>\n",
       "<p>497 rows × 9 columns</p>\n",
       "</div>"
      ],
      "text/plain": [
       "      Longitude   Latitude          City Country  Temperature  Humidity  \\\n",
       "0   -143.055649 -85.251585       mataura      pf        47.62      70.0   \n",
       "1    120.751855 -21.630768  port hedland      au        77.00      69.0   \n",
       "2   -128.853680  56.993924       terrace      ca        57.20      93.0   \n",
       "3    -72.059712  43.527686    new london      us        60.06      59.0   \n",
       "4     64.597603  12.265358     kavaratti      in        81.32      79.0   \n",
       "..          ...        ...           ...     ...          ...       ...   \n",
       "545 -144.681435  38.083847       fortuna      us        53.60     100.0   \n",
       "546   92.443675  64.338618          teya      ru        33.87      91.0   \n",
       "547 -161.648569 -34.759470        avarua      ck        73.40      88.0   \n",
       "548 -148.804494  51.957924        kodiak      us        51.80      87.0   \n",
       "549 -106.527589  84.149564   yellowknife      ca        39.07      86.0   \n",
       "\n",
       "     Cloud  Wind Speed          Date  \n",
       "0     42.0        7.56  1.601656e+09  \n",
       "1     53.0       14.99  1.601656e+09  \n",
       "2     75.0        2.24  1.601656e+09  \n",
       "3     90.0        9.17  1.601656e+09  \n",
       "4     69.0       12.62  1.601656e+09  \n",
       "..     ...         ...           ...  \n",
       "545    1.0        1.70  1.601656e+09  \n",
       "546   94.0        6.89  1.601656e+09  \n",
       "547   85.0        5.82  1.601656e+09  \n",
       "548   90.0       26.40  1.601656e+09  \n",
       "549   75.0        8.05  1.601656e+09  \n",
       "\n",
       "[497 rows x 9 columns]"
      ]
     },
     "execution_count": 9,
     "metadata": {},
     "output_type": "execute_result"
    }
   ],
   "source": [
    "# Save data as csv\n",
    "city_df = city_df.dropna()\n",
    "city_df.to_csv(\"weather_data.csv\", encoding=\"utf-8\", index=False)\n",
    "city_df\n"
   ]
  },
  {
   "cell_type": "code",
   "execution_count": null,
   "metadata": {},
   "outputs": [],
   "source": []
  },
  {
   "cell_type": "markdown",
   "metadata": {},
   "source": [
    "## Inspect the data and remove the cities where the humidity > 100%.\n",
    "----\n",
    "Skip this step if there are no cities that have humidity > 100%. "
   ]
  },
  {
   "cell_type": "code",
   "execution_count": 10,
   "metadata": {},
   "outputs": [
    {
     "data": {
      "text/html": [
       "<div>\n",
       "<style scoped>\n",
       "    .dataframe tbody tr th:only-of-type {\n",
       "        vertical-align: middle;\n",
       "    }\n",
       "\n",
       "    .dataframe tbody tr th {\n",
       "        vertical-align: top;\n",
       "    }\n",
       "\n",
       "    .dataframe thead th {\n",
       "        text-align: right;\n",
       "    }\n",
       "</style>\n",
       "<table border=\"1\" class=\"dataframe\">\n",
       "  <thead>\n",
       "    <tr style=\"text-align: right;\">\n",
       "      <th></th>\n",
       "      <th>Longitude</th>\n",
       "      <th>Latitude</th>\n",
       "      <th>Temperature</th>\n",
       "      <th>Humidity</th>\n",
       "      <th>Cloud</th>\n",
       "      <th>Wind Speed</th>\n",
       "      <th>Date</th>\n",
       "    </tr>\n",
       "  </thead>\n",
       "  <tbody>\n",
       "    <tr>\n",
       "      <th>count</th>\n",
       "      <td>497.000000</td>\n",
       "      <td>497.000000</td>\n",
       "      <td>497.000000</td>\n",
       "      <td>497.000000</td>\n",
       "      <td>497.000000</td>\n",
       "      <td>497.000000</td>\n",
       "      <td>4.970000e+02</td>\n",
       "    </tr>\n",
       "    <tr>\n",
       "      <th>mean</th>\n",
       "      <td>-5.454377</td>\n",
       "      <td>-1.898920</td>\n",
       "      <td>60.012495</td>\n",
       "      <td>72.158954</td>\n",
       "      <td>52.762575</td>\n",
       "      <td>10.998330</td>\n",
       "      <td>1.601656e+09</td>\n",
       "    </tr>\n",
       "    <tr>\n",
       "      <th>std</th>\n",
       "      <td>106.500439</td>\n",
       "      <td>50.160401</td>\n",
       "      <td>18.298031</td>\n",
       "      <td>19.859610</td>\n",
       "      <td>36.964019</td>\n",
       "      <td>7.495265</td>\n",
       "      <td>2.827075e+02</td>\n",
       "    </tr>\n",
       "    <tr>\n",
       "      <th>min</th>\n",
       "      <td>-178.355857</td>\n",
       "      <td>-88.875528</td>\n",
       "      <td>20.860000</td>\n",
       "      <td>8.000000</td>\n",
       "      <td>0.000000</td>\n",
       "      <td>0.430000</td>\n",
       "      <td>1.601655e+09</td>\n",
       "    </tr>\n",
       "    <tr>\n",
       "      <th>25%</th>\n",
       "      <td>-99.719049</td>\n",
       "      <td>-46.433821</td>\n",
       "      <td>46.670000</td>\n",
       "      <td>64.000000</td>\n",
       "      <td>20.000000</td>\n",
       "      <td>5.550000</td>\n",
       "      <td>1.601656e+09</td>\n",
       "    </tr>\n",
       "    <tr>\n",
       "      <th>50%</th>\n",
       "      <td>-13.489654</td>\n",
       "      <td>-1.459502</td>\n",
       "      <td>59.000000</td>\n",
       "      <td>78.000000</td>\n",
       "      <td>62.000000</td>\n",
       "      <td>8.930000</td>\n",
       "      <td>1.601656e+09</td>\n",
       "    </tr>\n",
       "    <tr>\n",
       "      <th>75%</th>\n",
       "      <td>91.604678</td>\n",
       "      <td>39.137053</td>\n",
       "      <td>73.400000</td>\n",
       "      <td>87.000000</td>\n",
       "      <td>90.000000</td>\n",
       "      <td>14.990000</td>\n",
       "      <td>1.601656e+09</td>\n",
       "    </tr>\n",
       "    <tr>\n",
       "      <th>max</th>\n",
       "      <td>179.919690</td>\n",
       "      <td>89.916733</td>\n",
       "      <td>102.830000</td>\n",
       "      <td>100.000000</td>\n",
       "      <td>100.000000</td>\n",
       "      <td>29.970000</td>\n",
       "      <td>1.601656e+09</td>\n",
       "    </tr>\n",
       "  </tbody>\n",
       "</table>\n",
       "</div>"
      ],
      "text/plain": [
       "        Longitude    Latitude  Temperature    Humidity       Cloud  \\\n",
       "count  497.000000  497.000000   497.000000  497.000000  497.000000   \n",
       "mean    -5.454377   -1.898920    60.012495   72.158954   52.762575   \n",
       "std    106.500439   50.160401    18.298031   19.859610   36.964019   \n",
       "min   -178.355857  -88.875528    20.860000    8.000000    0.000000   \n",
       "25%    -99.719049  -46.433821    46.670000   64.000000   20.000000   \n",
       "50%    -13.489654   -1.459502    59.000000   78.000000   62.000000   \n",
       "75%     91.604678   39.137053    73.400000   87.000000   90.000000   \n",
       "max    179.919690   89.916733   102.830000  100.000000  100.000000   \n",
       "\n",
       "       Wind Speed          Date  \n",
       "count  497.000000  4.970000e+02  \n",
       "mean    10.998330  1.601656e+09  \n",
       "std      7.495265  2.827075e+02  \n",
       "min      0.430000  1.601655e+09  \n",
       "25%      5.550000  1.601656e+09  \n",
       "50%      8.930000  1.601656e+09  \n",
       "75%     14.990000  1.601656e+09  \n",
       "max     29.970000  1.601656e+09  "
      ]
     },
     "execution_count": 10,
     "metadata": {},
     "output_type": "execute_result"
    }
   ],
   "source": [
    "city_df.describe()"
   ]
  },
  {
   "cell_type": "code",
   "execution_count": 13,
   "metadata": {},
   "outputs": [
    {
     "data": {
      "text/plain": [
       "[]"
      ]
     },
     "execution_count": 13,
     "metadata": {},
     "output_type": "execute_result"
    }
   ],
   "source": [
    "#  Get the indices of cities that have humidity over 100%.\n",
    "maxhumid = city_df.index[city_df[\"Humidity\"]>100].tolist()\n",
    "maxhumid"
   ]
  },
  {
   "cell_type": "code",
   "execution_count": 14,
   "metadata": {},
   "outputs": [
    {
     "data": {
      "text/html": [
       "<div>\n",
       "<style scoped>\n",
       "    .dataframe tbody tr th:only-of-type {\n",
       "        vertical-align: middle;\n",
       "    }\n",
       "\n",
       "    .dataframe tbody tr th {\n",
       "        vertical-align: top;\n",
       "    }\n",
       "\n",
       "    .dataframe thead th {\n",
       "        text-align: right;\n",
       "    }\n",
       "</style>\n",
       "<table border=\"1\" class=\"dataframe\">\n",
       "  <thead>\n",
       "    <tr style=\"text-align: right;\">\n",
       "      <th></th>\n",
       "      <th>Longitude</th>\n",
       "      <th>Latitude</th>\n",
       "      <th>City</th>\n",
       "      <th>Country</th>\n",
       "      <th>Temperature</th>\n",
       "      <th>Humidity</th>\n",
       "      <th>Cloud</th>\n",
       "      <th>Wind Speed</th>\n",
       "      <th>Date</th>\n",
       "    </tr>\n",
       "  </thead>\n",
       "  <tbody>\n",
       "    <tr>\n",
       "      <th>0</th>\n",
       "      <td>-143.055649</td>\n",
       "      <td>-85.251585</td>\n",
       "      <td>mataura</td>\n",
       "      <td>pf</td>\n",
       "      <td>47.62</td>\n",
       "      <td>70.0</td>\n",
       "      <td>42.0</td>\n",
       "      <td>7.56</td>\n",
       "      <td>1.601656e+09</td>\n",
       "    </tr>\n",
       "    <tr>\n",
       "      <th>1</th>\n",
       "      <td>120.751855</td>\n",
       "      <td>-21.630768</td>\n",
       "      <td>port hedland</td>\n",
       "      <td>au</td>\n",
       "      <td>77.00</td>\n",
       "      <td>69.0</td>\n",
       "      <td>53.0</td>\n",
       "      <td>14.99</td>\n",
       "      <td>1.601656e+09</td>\n",
       "    </tr>\n",
       "    <tr>\n",
       "      <th>2</th>\n",
       "      <td>-128.853680</td>\n",
       "      <td>56.993924</td>\n",
       "      <td>terrace</td>\n",
       "      <td>ca</td>\n",
       "      <td>57.20</td>\n",
       "      <td>93.0</td>\n",
       "      <td>75.0</td>\n",
       "      <td>2.24</td>\n",
       "      <td>1.601656e+09</td>\n",
       "    </tr>\n",
       "    <tr>\n",
       "      <th>3</th>\n",
       "      <td>-72.059712</td>\n",
       "      <td>43.527686</td>\n",
       "      <td>new london</td>\n",
       "      <td>us</td>\n",
       "      <td>60.06</td>\n",
       "      <td>59.0</td>\n",
       "      <td>90.0</td>\n",
       "      <td>9.17</td>\n",
       "      <td>1.601656e+09</td>\n",
       "    </tr>\n",
       "    <tr>\n",
       "      <th>4</th>\n",
       "      <td>64.597603</td>\n",
       "      <td>12.265358</td>\n",
       "      <td>kavaratti</td>\n",
       "      <td>in</td>\n",
       "      <td>81.32</td>\n",
       "      <td>79.0</td>\n",
       "      <td>69.0</td>\n",
       "      <td>12.62</td>\n",
       "      <td>1.601656e+09</td>\n",
       "    </tr>\n",
       "  </tbody>\n",
       "</table>\n",
       "</div>"
      ],
      "text/plain": [
       "    Longitude   Latitude          City Country  Temperature  Humidity  Cloud  \\\n",
       "0 -143.055649 -85.251585       mataura      pf        47.62      70.0   42.0   \n",
       "1  120.751855 -21.630768  port hedland      au        77.00      69.0   53.0   \n",
       "2 -128.853680  56.993924       terrace      ca        57.20      93.0   75.0   \n",
       "3  -72.059712  43.527686    new london      us        60.06      59.0   90.0   \n",
       "4   64.597603  12.265358     kavaratti      in        81.32      79.0   69.0   \n",
       "\n",
       "   Wind Speed          Date  \n",
       "0        7.56  1.601656e+09  \n",
       "1       14.99  1.601656e+09  \n",
       "2        2.24  1.601656e+09  \n",
       "3        9.17  1.601656e+09  \n",
       "4       12.62  1.601656e+09  "
      ]
     },
     "execution_count": 14,
     "metadata": {},
     "output_type": "execute_result"
    }
   ],
   "source": [
    "# Make a new DataFrame equal to the city data to drop all humidity outliers by index.\n",
    "# Passing \"inplace=False\" will make a copy of the city_data DataFrame, which we call \"clean_city_data\".\n",
    "\n",
    "#no Humid > 100 apparently so I'll keep using the current data\n",
    "city_df.head()"
   ]
  },
  {
   "cell_type": "code",
   "execution_count": null,
   "metadata": {},
   "outputs": [],
   "source": [
    "\n"
   ]
  },
  {
   "cell_type": "markdown",
   "metadata": {},
   "source": [
    "## Plotting the Data\n",
    "* Use proper labeling of the plots using plot titles (including date of analysis) and axes labels.\n",
    "* Save the plotted figures as .pngs."
   ]
  },
  {
   "cell_type": "markdown",
   "metadata": {},
   "source": [
    "## Latitude vs. Temperature Plot"
   ]
  },
  {
   "cell_type": "code",
   "execution_count": 121,
   "metadata": {
    "scrolled": true
   },
   "outputs": [
    {
     "name": "stdout",
     "output_type": "stream",
     "text": [
      "This plot shows the Temperature change base on the Latitude\n"
     ]
    },
    {
     "data": {
      "image/png": "[encoded data removed]",
      "text/plain": [
       "<Figure size 432x288 with 1 Axes>"
      ]
     },
     "metadata": {
      "needs_background": "light"
     },
     "output_type": "display_data"
    }
   ],
   "source": [
    "#get current date set to mmddyyy\n",
    "date = datetime.now()\n",
    "date = date.strftime(\"%m-%d-%Y\")\n",
    "plt.scatter(city_df[\"Latitude\"],city_df[\"Temperature\"])\n",
    "plt.ylabel(\"Temperature (F)\")\n",
    "plt.xlabel(\"Latitude\")\n",
    "plt.title(f\"Latitude vs. Temperature ({date})\")\n",
    "plt.savefig(\"Images/latitueVStemp.png\")\n",
    "print(\"This plot shows the Temperature change base on the Latitude\")"
   ]
  },
  {
   "cell_type": "markdown",
   "metadata": {},
   "source": [
    "## Latitude vs. Humidity Plot"
   ]
  },
  {
   "cell_type": "code",
   "execution_count": 122,
   "metadata": {},
   "outputs": [
    {
     "name": "stdout",
     "output_type": "stream",
     "text": [
      "This plot shows the Humidity change base on the Latitude\n"
     ]
    },
    {
     "data": {
      "image/png": "[encoded data removed]",
      "text/plain": [
       "<Figure size 432x288 with 1 Axes>"
      ]
     },
     "metadata": {
      "needs_background": "light"
     },
     "output_type": "display_data"
    }
   ],
   "source": [
    "plt.scatter(city_df[\"Latitude\"],city_df[\"Humidity\"])\n",
    "plt.ylabel(\"Humidity (%)\")\n",
    "plt.xlabel(\"Latitude\")\n",
    "plt.title(f\"Latitude vs. Humidity ({date})\")\n",
    "plt.savefig(\"Images/latitueVShumid.png\")\n",
    "print(\"This plot shows the Humidity change base on the Latitude\")"
   ]
  },
  {
   "cell_type": "markdown",
   "metadata": {},
   "source": [
    "## Latitude vs. Cloudiness Plot"
   ]
  },
  {
   "cell_type": "code",
   "execution_count": 123,
   "metadata": {},
   "outputs": [
    {
     "name": "stdout",
     "output_type": "stream",
     "text": [
      "This plot shows the Cloudiness change base on the Latitude\n"
     ]
    },
    {
     "data": {
      "image/png": "[encoded data removed]",
      "text/plain": [
       "<Figure size 432x288 with 1 Axes>"
      ]
     },
     "metadata": {
      "needs_background": "light"
     },
     "output_type": "display_data"
    }
   ],
   "source": [
    "plt.scatter(city_df[\"Latitude\"],city_df[\"Cloud\"])\n",
    "plt.ylabel(\"Cloudiness (%)\")\n",
    "plt.xlabel(\"Latitude\")\n",
    "plt.title(f\"Latitude vs. Cloudiness ({date})\")\n",
    "plt.savefig(\"Images/latitueVScloud.png\")\n",
    "print(\"This plot shows the Cloudiness change base on the Latitude\")"
   ]
  },
  {
   "cell_type": "markdown",
   "metadata": {},
   "source": [
    "## Latitude vs. Wind Speed Plot"
   ]
  },
  {
   "cell_type": "code",
   "execution_count": 124,
   "metadata": {},
   "outputs": [
    {
     "name": "stdout",
     "output_type": "stream",
     "text": [
      "This plot shows the Wind Speed change base on the Latitude\n"
     ]
    },
    {
     "data": {
      "image/png": "[encoded data removed]",
      "text/plain": [
       "<Figure size 432x288 with 1 Axes>"
      ]
     },
     "metadata": {
      "needs_background": "light"
     },
     "output_type": "display_data"
    }
   ],
   "source": [
    "plt.scatter(city_df[\"Latitude\"],city_df[\"Wind Speed\"])\n",
    "plt.ylabel(\"Wind Speed (mph)\")\n",
    "plt.xlabel(\"Latitude\")\n",
    "plt.title(f\"Latitude vs. Wind Speed ({date})\")\n",
    "plt.savefig(\"Images/latitueVSwind.png\")\n",
    "print(\"This plot shows the Wind Speed change base on the Latitude\")"
   ]
  },
  {
   "cell_type": "markdown",
   "metadata": {},
   "source": [
    "## Linear Regression"
   ]
  },
  {
   "cell_type": "code",
   "execution_count": 134,
   "metadata": {},
   "outputs": [],
   "source": [
    "northhem = city_df.loc[city_df[\"Latitude\"] > 0]\n",
    "southhem = city_df.loc[city_df[\"Latitude\"] < 0]"
   ]
  },
  {
   "cell_type": "markdown",
   "metadata": {},
   "source": [
    "####  Northern Hemisphere - Max Temp vs. Latitude Linear Regression"
   ]
  },
  {
   "cell_type": "code",
   "execution_count": 135,
   "metadata": {
    "scrolled": true
   },
   "outputs": [
    {
     "name": "stdout",
     "output_type": "stream",
     "text": [
      "The r-squared is: 0.7362131659839138\n"
     ]
    },
    {
     "data": {
      "image/png": "[encoded data removed]",
      "text/plain": [
       "<Figure size 432x288 with 1 Axes>"
      ]
     },
     "metadata": {
      "needs_background": "light"
     },
     "output_type": "display_data"
    }
   ],
   "source": [
    "#get Northern Hemisphere\n",
    "ynorth = northhem[\"Temperature\"]\n",
    "northlat = northhem[\"Latitude\"]\n",
    "\n",
    "#regress\n",
    "(north_slope, north_intercept, north_rvalue, north_pvalue, north_stderr) = linregress(northlat,ynorth)\n",
    "regress_values = northlat * north_slope + north_intercept\n",
    "line_eq = \"y = \" + str(round(north_slope,2)) + \"x + \" + str(round(north_intercept,2))\n",
    "\n",
    "print(f\"The r-squared is: {north_rvalue**2}\")\n",
    "#plot\n",
    "plt.scatter(northlat,ynorth)\n",
    "plt.plot(northlat,regress_values,\"r-\")\n",
    "plt.ylabel(\"Max Temperature\")\n",
    "plt.xlabel(\"Latitude\")\n",
    "plt.title(\"Northern Hemisphere - Max Temperature vs. Latitude Linear Regression\")\n",
    "plt.annotate(line_eq,(0,20),fontsize=15,color=\"red\")\n",
    "\n",
    "\n",
    "plt.savefig(\"Images/NorthlatitueVStemp.png\")"
   ]
  },
  {
   "cell_type": "markdown",
   "metadata": {},
   "source": [
    "####  Southern Hemisphere - Max Temp vs. Latitude Linear Regression"
   ]
  },
  {
   "cell_type": "code",
   "execution_count": 136,
   "metadata": {},
   "outputs": [
    {
     "name": "stdout",
     "output_type": "stream",
     "text": [
      "The r-squared is: 0.47352608027195325\n"
     ]
    },
    {
     "data": {
      "image/png": "[encoded data removed]",
      "text/plain": [
       "<Figure size 432x288 with 1 Axes>"
      ]
     },
     "metadata": {
      "needs_background": "light"
     },
     "output_type": "display_data"
    }
   ],
   "source": [
    "#get Southern Hemisphere\n",
    "ysouth = southhem[\"Temperature\"]\n",
    "southlat = southhem[\"Latitude\"]\n",
    "\n",
    "#regress\n",
    "(south_slope, south_intercept, south_rvalue, south_pvalue, south_stderr) = linregress(southlat,ysouth)\n",
    "regress_values = southlat * south_slope + south_intercept\n",
    "line_eq = \"y = \" + str(round(south_slope,2)) + \"x + \" + str(round(south_intercept,2))\n",
    "\n",
    "print(f\"The r-squared is: {south_rvalue**2}\")\n",
    "#plot\n",
    "plt.scatter(southlat,ysouth)\n",
    "plt.plot(southlat,regress_values,\"r-\")\n",
    "plt.ylabel(\"Max Temperature\")\n",
    "plt.xlabel(\"Latitude\")\n",
    "plt.title(\"Southern Hemisphere - Max Temperature vs. Latitude Linear Regression\")\n",
    "plt.annotate(line_eq,(-85,100),fontsize=15,color=\"red\")\n",
    "plt.savefig(\"Images/SouthlatitueVStemp.png\")"
   ]
  },
  {
   "cell_type": "markdown",
   "metadata": {},
   "source": [
    "####  Northern Hemisphere - Humidity (%) vs. Latitude Linear Regression"
   ]
  },
  {
   "cell_type": "code",
   "execution_count": 137,
   "metadata": {},
   "outputs": [
    {
     "name": "stdout",
     "output_type": "stream",
     "text": [
      "The r-squared is: 0.08432088016275549\n"
     ]
    },
    {
     "data": {
      "image/png": "[encoded data removed]",
      "text/plain": [
       "<Figure size 432x288 with 1 Axes>"
      ]
     },
     "metadata": {
      "needs_background": "light"
     },
     "output_type": "display_data"
    }
   ],
   "source": [
    "#get Northern Hemisphere\n",
    "ynorth = northhem[\"Humidity\"]\n",
    "northlat = northhem[\"Latitude\"]\n",
    "\n",
    "#regress\n",
    "(north_slope, north_intercept, north_rvalue, north_pvalue, north_stderr) = linregress(northlat,ynorth)\n",
    "regress_values = northlat * north_slope + north_intercept\n",
    "line_eq = \"y = \" + str(round(north_slope,2)) + \"x + \" + str(round(north_intercept,2))\n",
    "\n",
    "print(f\"The r-squared is: {north_rvalue**2}\")\n",
    "#plot\n",
    "plt.scatter(northlat,ynorth)\n",
    "plt.plot(northlat,regress_values,\"r-\")\n",
    "plt.ylabel(\"Humidity\")\n",
    "plt.xlabel(\"Latitude\")\n",
    "plt.title(\"Northern Hemisphere - Humidity(%) vs. Latitude Linear Regression\")\n",
    "plt.annotate(line_eq,(50,10),fontsize=15,color=\"red\")\n",
    "plt.savefig(\"Images/NorthlatitueVShumid.png\")"
   ]
  },
  {
   "cell_type": "markdown",
   "metadata": {},
   "source": [
    "####  Southern Hemisphere - Humidity (%) vs. Latitude Linear Regression"
   ]
  },
  {
   "cell_type": "code",
   "execution_count": 138,
   "metadata": {},
   "outputs": [
    {
     "name": "stdout",
     "output_type": "stream",
     "text": [
      "The r-squared is: 0.015914065905458186\n"
     ]
    },
    {
     "data": {
      "image/png": "[encoded data removed]",
      "text/plain": [
       "<Figure size 432x288 with 1 Axes>"
      ]
     },
     "metadata": {
      "needs_background": "light"
     },
     "output_type": "display_data"
    }
   ],
   "source": [
    "#get Southern Hemisphere\n",
    "ysouth = southhem[\"Humidity\"]\n",
    "southlat = southhem[\"Latitude\"]\n",
    "\n",
    "#regress\n",
    "(south_slope, south_intercept, south_rvalue, south_pvalue, south_stderr) = linregress(southlat,ysouth)\n",
    "regress_values = southlat * south_slope + south_intercept\n",
    "line_eq = \"y = \" + str(round(south_slope,2)) + \"x + \" + str(round(south_intercept,2))\n",
    "\n",
    "print(f\"The r-squared is: {south_rvalue**2}\")\n",
    "#plot\n",
    "plt.scatter(southlat,ysouth)\n",
    "plt.plot(southlat,regress_values,\"r-\")\n",
    "plt.ylabel(\"Max Temperature\")\n",
    "plt.xlabel(\"Latitude\")\n",
    "plt.title(\"Southern Hemisphere - Humidity(%) vs. Latitude Linear Regression\")\n",
    "plt.annotate(line_eq,(-85,20),fontsize=15,color=\"red\")\n",
    "plt.savefig(\"Images/SouthlatitueVShumid.png\")"
   ]
  },
  {
   "cell_type": "markdown",
   "metadata": {},
   "source": [
    "####  Northern Hemisphere - Cloudiness (%) vs. Latitude Linear Regression"
   ]
  },
  {
   "cell_type": "code",
   "execution_count": 139,
   "metadata": {},
   "outputs": [
    {
     "name": "stdout",
     "output_type": "stream",
     "text": [
      "The r-squared is: 0.2381353202055334\n"
     ]
    },
    {
     "data": {
      "image/png": "[encoded data removed]",
      "text/plain": [
       "<Figure size 432x288 with 1 Axes>"
      ]
     },
     "metadata": {
      "needs_background": "light"
     },
     "output_type": "display_data"
    }
   ],
   "source": [
    "#get Northern Hemisphere\n",
    "ynorth = northhem[\"Cloud\"]\n",
    "northlat = northhem[\"Latitude\"]\n",
    "\n",
    "#regress\n",
    "(north_slope, north_intercept, north_rvalue, north_pvalue, north_stderr) = linregress(northlat,ynorth)\n",
    "regress_values = northlat * north_slope + north_intercept\n",
    "line_eq = \"y = \" + str(round(north_slope,2)) + \"x + \" + str(round(north_intercept,2))\n",
    "\n",
    "print(f\"The r-squared is: {north_rvalue**2}\")\n",
    "#plot\n",
    "plt.scatter(northlat,ynorth)\n",
    "plt.plot(northlat,regress_values,\"r-\")\n",
    "plt.ylabel(\"Cloudiness(%)\")\n",
    "plt.xlabel(\"Latitude\")\n",
    "plt.title(\"Northern Hemisphere - Cloudiness(%) vs. Latitude Linear Regression\")\n",
    "plt.annotate(line_eq,(50,20),fontsize=15,color=\"red\")\n",
    "plt.savefig(\"Images/NorthlatitueVScloud.png\")"
   ]
  },
  {
   "cell_type": "markdown",
   "metadata": {},
   "source": [
    "####  Southern Hemisphere - Cloudiness (%) vs. Latitude Linear Regression"
   ]
  },
  {
   "cell_type": "code",
   "execution_count": 140,
   "metadata": {},
   "outputs": [
    {
     "name": "stdout",
     "output_type": "stream",
     "text": [
      "The r-squared is: 0.01417728840887521\n"
     ]
    },
    {
     "data": {
      "image/png": "[encoded data removed]",
      "text/plain": [
       "<Figure size 432x288 with 1 Axes>"
      ]
     },
     "metadata": {
      "needs_background": "light"
     },
     "output_type": "display_data"
    }
   ],
   "source": [
    "#get Southern Hemisphere\n",
    "ysouth = southhem[\"Cloud\"]\n",
    "southlat = southhem[\"Latitude\"]\n",
    "\n",
    "#regress\n",
    "(south_slope, south_intercept, south_rvalue, south_pvalue, south_stderr) = linregress(southlat,ysouth)\n",
    "regress_values = southlat * south_slope + south_intercept\n",
    "line_eq = \"y = \" + str(round(south_slope,2)) + \"x + \" + str(round(south_intercept,2))\n",
    "\n",
    "print(f\"The r-squared is: {south_rvalue**2}\")\n",
    "#plot\n",
    "plt.scatter(southlat,ysouth)\n",
    "plt.plot(southlat,regress_values,\"r-\")\n",
    "plt.ylabel(\"Cloudiness(%)\")\n",
    "plt.xlabel(\"Latitude\")\n",
    "plt.title(\"Southern Hemisphere - Cloudiness(%) vs. Latitude Linear Regression\")\n",
    "plt.annotate(line_eq,(-85,20),fontsize=15,color=\"red\")\n",
    "plt.savefig(\"Images/SouthlatitueVScloud.png\")"
   ]
  },
  {
   "cell_type": "markdown",
   "metadata": {},
   "source": [
    "####  Northern Hemisphere - Wind Speed (mph) vs. Latitude Linear Regression"
   ]
  },
  {
   "cell_type": "code",
   "execution_count": 141,
   "metadata": {},
   "outputs": [
    {
     "name": "stdout",
     "output_type": "stream",
     "text": [
      "The r-squared is: 0.02262035551922787\n"
     ]
    },
    {
     "data": {
      "image/png": "[encoded data removed]",
      "text/plain": [
       "<Figure size 432x288 with 1 Axes>"
      ]
     },
     "metadata": {
      "needs_background": "light"
     },
     "output_type": "display_data"
    }
   ],
   "source": [
    "#get Northern Hemisphere\n",
    "ynorth = northhem[\"Wind Speed\"]\n",
    "northlat = northhem[\"Latitude\"]\n",
    "#regress\n",
    "(north_slope, north_intercept, north_rvalue, north_pvalue, north_stderr) = linregress(northlat,ynorth)\n",
    "regress_values = northlat * north_slope + north_intercept\n",
    "line_eq = \"y = \" + str(round(north_slope,2)) + \"x + \" + str(round(north_intercept,2))\n",
    "\n",
    "print(f\"The r-squared is: {north_rvalue**2}\")\n",
    "#plot\n",
    "plt.scatter(northlat,ynorth)\n",
    "plt.plot(northlat,regress_values,\"r-\")\n",
    "plt.ylabel(\"Wind Speed(mph)\")\n",
    "plt.xlabel(\"Latitude\")\n",
    "plt.title(\"Northern Hemisphere - Wind Speed(mph) vs. Latitude Linear Regression\")\n",
    "plt.annotate(line_eq,(5,27),fontsize=15,color=\"red\")\n",
    "plt.savefig(\"Images/NorthlatitueVSwind.png\")"
   ]
  },
  {
   "cell_type": "markdown",
   "metadata": {},
   "source": [
    "####  Southern Hemisphere - Wind Speed (mph) vs. Latitude Linear Regression"
   ]
  },
  {
   "cell_type": "code",
   "execution_count": 142,
   "metadata": {},
   "outputs": [
    {
     "name": "stdout",
     "output_type": "stream",
     "text": [
      "The r-squared is: 0.15162055953350698\n"
     ]
    },
    {
     "data": {
      "image/png": "[encoded data removed]",
      "text/plain": [
       "<Figure size 432x288 with 1 Axes>"
      ]
     },
     "metadata": {
      "needs_background": "light"
     },
     "output_type": "display_data"
    }
   ],
   "source": [
    "#get Southern Hemisphere\n",
    "ysouth = southhem[\"Wind Speed\"]\n",
    "southlat = southhem[\"Latitude\"]\n",
    "\n",
    "#regress\n",
    "(south_slope, south_intercept, south_rvalue, south_pvalue, south_stderr) = linregress(southlat,ysouth)\n",
    "regress_values = southlat * south_slope + south_intercept\n",
    "line_eq = \"y = \" + str(round(south_slope,2)) + \"x + \" + str(round(south_intercept,2))\n",
    "\n",
    "print(f\"The r-squared is: {south_rvalue**2}\")\n",
    "#plot\n",
    "plt.scatter(southlat,ysouth)\n",
    "plt.plot(southlat,regress_values,\"r-\")\n",
    "plt.ylabel(\"Wind Speed(mph)\")\n",
    "plt.xlabel(\"Latitude\")\n",
    "plt.title(\"Southern Hemisphere -  Wind Speed(mph) vs. Latitude Linear Regression\")\n",
    "plt.annotate(line_eq,(-85,2),fontsize=15,color=\"red\")\n",
    "plt.savefig(\"Images/SouthlatitueVSwind.png\")"
   ]
  },
  {
   "cell_type": "code",
   "execution_count": null,
   "metadata": {},
   "outputs": [],
   "source": []
  }
 ],
 "metadata": {
  "anaconda-cloud": {},
  "kernel_info": {
   "name": "python3"
  },
  "kernelspec": {
   "display_name": "Python 3",
   "language": "python",
   "name": "python3"
  },
  "language_info": {
   "codemirror_mode": {
    "name": "ipython",
    "version": 3
   },
   "file_extension": ".py",
   "mimetype": "text/x-python",
   "name": "python",
   "nbconvert_exporter": "python",
   "pygments_lexer": "ipython3",
   "version": "3.8.5"
  },
  "latex_envs": {
   "LaTeX_envs_menu_present": true,
   "autoclose": false,
   "autocomplete": true,
   "bibliofile": "biblio.bib",
   "cite_by": "apalike",
   "current_citInitial": 1,
   "eqLabelWithNumbers": true,
   "eqNumInitial": 1,
   "hotkeys": {
    "equation": "Ctrl-E",
    "itemize": "Ctrl-I"
   },
   "labels_anchors": false,
   "latex_user_defs": false,
   "report_style_numbering": false,
   "user_envs_cfg": false
  },
  "nteract": {
   "version": "0.12.3"
  }
 },
 "nbformat": 4,
 "nbformat_minor": 2
}
